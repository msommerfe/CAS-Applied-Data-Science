{
  "nbformat": 4,
  "nbformat_minor": 0,
  "metadata": {
    "colab": {
      "provenance": [],
      "gpuType": "T4",
      "machine_shape": "hm",
      "mount_file_id": "1FpSfzpmqeh_vBg-hURmzfc1f_gxBjSi-",
      "authorship_tag": "ABX9TyM8s9REyjfEteBimhlu4Pn6",
      "include_colab_link": true
    },
    "kernelspec": {
      "name": "python3",
      "display_name": "Python 3"
    },
    "language_info": {
      "name": "python"
    },
    "accelerator": "GPU"
  },
  "cells": [
    {
      "cell_type": "markdown",
      "metadata": {
        "id": "view-in-github",
        "colab_type": "text"
      },
      "source": [
        "<a href=\"https://colab.research.google.com/github/msommerfe/CAS-Applied-Data-Science/blob/master/Module6_Deep_Learning/Object_DetectionV8_GoogleColab.ipynb\" target=\"_parent\"><img src=\"https://colab.research.google.com/assets/colab-badge.svg\" alt=\"Open In Colab\"/></a>"
      ]
    },
    {
      "cell_type": "code",
      "source": [
        "from google.colab import drive\n",
        "drive.mount('/content/drive')"
      ],
      "metadata": {
        "colab": {
          "base_uri": "https://localhost:8080/"
        },
        "id": "NkoxtQajJmJv",
        "outputId": "0ee819cd-5737-44c7-c2a1-ea1f3a194aa9"
      },
      "execution_count": 1,
      "outputs": [
        {
          "output_type": "stream",
          "name": "stdout",
          "text": [
            "Mounted at /content/drive\n"
          ]
        }
      ]
    },
    {
      "cell_type": "code",
      "source": [
        "pip install ultralytics"
      ],
      "metadata": {
        "id": "j7-po-sQe8Gc"
      },
      "execution_count": null,
      "outputs": []
    },
    {
      "cell_type": "code",
      "source": [
        "import ssl\n",
        "import urllib\n",
        "import os\n",
        "import time\n",
        "from matplotlib import pyplot as plt\n",
        "import numpy as np\n",
        "import cv2\n",
        "from ultralytics import YOLO\n",
        "from ultralytics.utils.plotting import plot_results\n",
        "print(os.getcwd())"
      ],
      "metadata": {
        "id": "UrB2fjhEsVzT",
        "colab": {
          "base_uri": "https://localhost:8080/"
        },
        "outputId": "f6cde453-c3a6-4bb2-9d15-d495bb935c2d"
      },
      "execution_count": 3,
      "outputs": [
        {
          "output_type": "stream",
          "name": "stdout",
          "text": [
            "/content\n"
          ]
        }
      ]
    },
    {
      "cell_type": "code",
      "source": [
        "!nvidia-smi"
      ],
      "metadata": {
        "colab": {
          "base_uri": "https://localhost:8080/"
        },
        "id": "pLR2OCXAPzWN",
        "outputId": "eb18f051-cb2f-4e43-d83b-a674931985c0"
      },
      "execution_count": 4,
      "outputs": [
        {
          "output_type": "stream",
          "name": "stdout",
          "text": [
            "Fri Mar  8 15:02:59 2024       \n",
            "+---------------------------------------------------------------------------------------+\n",
            "| NVIDIA-SMI 535.104.05             Driver Version: 535.104.05   CUDA Version: 12.2     |\n",
            "|-----------------------------------------+----------------------+----------------------+\n",
            "| GPU  Name                 Persistence-M | Bus-Id        Disp.A | Volatile Uncorr. ECC |\n",
            "| Fan  Temp   Perf          Pwr:Usage/Cap |         Memory-Usage | GPU-Util  Compute M. |\n",
            "|                                         |                      |               MIG M. |\n",
            "|=========================================+======================+======================|\n",
            "|   0  NVIDIA A100-SXM4-40GB          Off | 00000000:00:04.0 Off |                    0 |\n",
            "| N/A   31C    P0              41W / 400W |      2MiB / 40960MiB |      0%      Default |\n",
            "|                                         |                      |             Disabled |\n",
            "+-----------------------------------------+----------------------+----------------------+\n",
            "                                                                                         \n",
            "+---------------------------------------------------------------------------------------+\n",
            "| Processes:                                                                            |\n",
            "|  GPU   GI   CI        PID   Type   Process name                            GPU Memory |\n",
            "|        ID   ID                                                             Usage      |\n",
            "|=======================================================================================|\n",
            "|  No running processes found                                                           |\n",
            "+---------------------------------------------------------------------------------------+\n"
          ]
        }
      ]
    },
    {
      "cell_type": "code",
      "source": [
        "#!python train.py --img 1280 --batch 16 --epochs 500 --data /content/drive/MyDrive/Colab_Notebooks/Data/Try_EVN_1200x900/YoloTrainingPath.yaml --weights yolov5s.pt\n",
        "yamlPath = '/content/drive/MyDrive/Colab_Notebooks/Data/Try_EVN_1280x960/YoloTrainingPath.yaml'\n",
        "model = YOLO('yolov8n.pt')\n",
        "\n",
        "results = model.train(data = yamlPath, epochs = 500, imgsz=1280)"
      ],
      "metadata": {
        "id": "qHssUf_4sYNB"
      },
      "execution_count": null,
      "outputs": []
    },
    {
      "cell_type": "code",
      "source": [
        "import locale\n",
        "locale.getpreferredencoding = lambda: \"UTF-8\"\n",
        "!cp -av \"/content/runs\" \"/content/drive/MyDrive/Colab_Notebooks/Data/Try_EVN_1280x960\""
      ],
      "metadata": {
        "id": "ecNnqewztYtP"
      },
      "execution_count": null,
      "outputs": []
    },
    {
      "cell_type": "code",
      "source": [
        "resultPath = '/content/drive/MyDrive/Colab_Notebooks/Data/Try_EVN_1280x960/runs/detect/train2/results'\n",
        "#plot_results(resultPath + '.csv') #Creating a image (result.png) based on data in result.csv\n",
        "\n",
        "%matplotlib inline\n",
        "import matplotlib.pyplot as plt\n",
        "import matplotlib.image as mpimg\n",
        "img = mpimg.imread(resultPath + '.png')\n",
        "plt.imshow(img)\n",
        "plt.show()"
      ],
      "metadata": {
        "id": "djisaBXiPs7H"
      },
      "execution_count": null,
      "outputs": []
    },
    {
      "cell_type": "code",
      "source": [
        "pathBestWeights = '/content/drive/MyDrive/Colab_Notebooks/Data/Try_EVN_1280x960/runs/detect/train/weights/best.pt'\n",
        "model = YOLO(pathBestWeights)"
      ],
      "metadata": {
        "id": "osCeFDfOD3-l"
      },
      "execution_count": 4,
      "outputs": []
    },
    {
      "cell_type": "code",
      "source": [
        "img = '/content/drive/MyDrive/Colab_Notebooks/Data/Try_EVN_1280x960/validate/images'\n",
        "results = model(img)"
      ],
      "metadata": {
        "id": "B1DupyyREbBA"
      },
      "execution_count": null,
      "outputs": []
    },
    {
      "cell_type": "code",
      "source": [
        "#super sad, cv2.imshow is not working in colab. Thats why workaround is needed\n",
        "#for r in results:\n",
        "#        cv2.imshow('YOLO', np.squeeze(r.plot()))\n",
        "\n",
        "for r in results:\n",
        "  plt.imshow(np.squeeze(r.plot()))\n",
        "  plt.show()"
      ],
      "metadata": {
        "id": "pnJ9WE36E_IC"
      },
      "execution_count": null,
      "outputs": []
    },
    {
      "cell_type": "code",
      "source": [
        "videoPath = '/content/drive/MyDrive/Colab_Notebooks/Data/Video/480p.mp4'\n",
        "#results = model(source = videoPath, save = True, stream = True)"
      ],
      "metadata": {
        "id": "h3ffKYIfd3Hu"
      },
      "execution_count": 20,
      "outputs": []
    },
    {
      "cell_type": "code",
      "source": [
        "model.predict('/content/drive/MyDrive/Colab_Notebooks/Data/Video/full.mp4', save=True, imgsz=1280, augment = True, conf = 0.1)"
      ],
      "metadata": {
        "id": "jMBdbfaofkpM"
      },
      "execution_count": null,
      "outputs": []
    },
    {
      "cell_type": "code",
      "source": [
        "!ffmpeg -i {\"runs/detect/predict/full.avi\"} -vcodec libx264 {\"final2.mp4\"}"
      ],
      "metadata": {
        "id": "uymolL_WnI2t"
      },
      "execution_count": null,
      "outputs": []
    },
    {
      "cell_type": "code",
      "source": [
        "from IPython.display import HTML\n",
        "from base64 import b64encode\n",
        "mp4 = open('final2.mp4','rb').read()\n",
        "data_url = \"data:video/mp4;base64,\" + b64encode(mp4).decode()\n",
        "HTML(\"\"\"\n",
        "<video width=400 controls>\n",
        "      <source src=\"%s\" type=\"video/mp4\">\n",
        "</video>\n",
        "\"\"\" % data_url)"
      ],
      "metadata": {
        "id": "dC2R8JImpnOs"
      },
      "execution_count": 22,
      "outputs": []
    },
    {
      "cell_type": "markdown",
      "source": [
        "# Neuer Abschnitt"
      ],
      "metadata": {
        "id": "5h2nGfzPsaHO"
      }
    }
  ]
}